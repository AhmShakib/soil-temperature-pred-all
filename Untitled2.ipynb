{
 "cells": [
  {
   "cell_type": "markdown",
   "id": "e29825d7-1943-464f-86d2-f62046f22ee4",
   "metadata": {},
   "source": [
    "## CNN-LSTM"
   ]
  },
  {
   "cell_type": "code",
   "execution_count": null,
   "id": "d0ea3d40-2525-46b0-a855-80817cc48cab",
   "metadata": {},
   "outputs": [],
   "source": [
    "Test Loss (MSE): 0.0058\n",
    "Test MAE:       0.0579"
   ]
  },
  {
   "cell_type": "markdown",
   "id": "cf8e9555-bf52-40e4-971c-54991714c2df",
   "metadata": {},
   "source": [
    "## LSTM"
   ]
  },
  {
   "cell_type": "code",
   "execution_count": null,
   "id": "6a8ac5e0-85a8-40bf-a84f-fafb109bd737",
   "metadata": {},
   "outputs": [],
   "source": [
    "Test Loss (MSE): 0.0057\n",
    "Test MAE: 0.0563"
   ]
  },
  {
   "cell_type": "markdown",
   "id": "67150f18-9d98-47b0-86b6-14c32f366a37",
   "metadata": {},
   "source": [
    "## GRU"
   ]
  },
  {
   "cell_type": "code",
   "execution_count": null,
   "id": "5706e1f6-7c45-4621-9554-772eb041abbd",
   "metadata": {},
   "outputs": [],
   "source": [
    "Test Loss (MSE): 0.0056\n",
    "Test MAE: 0.0573"
   ]
  },
  {
   "cell_type": "markdown",
   "id": "4abf35fd-2fb9-4e0c-b970-00e86eef0d83",
   "metadata": {},
   "source": [
    "## RNN"
   ]
  },
  {
   "cell_type": "code",
   "execution_count": null,
   "id": "ce6e686c-1cd7-4066-8d5d-dc7b53ebcfb4",
   "metadata": {},
   "outputs": [],
   "source": [
    "Test Loss (MSE): 0.0068\n",
    "Test MAE:       0.0647"
   ]
  },
  {
   "cell_type": "markdown",
   "id": "2d4fd902-3272-4d99-8516-32e5fe5d4035",
   "metadata": {},
   "source": [
    "## RF"
   ]
  },
  {
   "cell_type": "code",
   "execution_count": 3,
   "id": "b72ba7a7-ebd6-433a-bf46-0a35fe3e237f",
   "metadata": {},
   "outputs": [
    {
     "ename": "NameError",
     "evalue": "name 'git' is not defined",
     "output_type": "error",
     "traceback": [
      "\u001b[1;31m---------------------------------------------------------------------------\u001b[0m",
      "\u001b[1;31mNameError\u001b[0m                                 Traceback (most recent call last)",
      "Cell \u001b[1;32mIn[3], line 1\u001b[0m\n\u001b[1;32m----> 1\u001b[0m \u001b[43mgit\u001b[49m \u001b[38;5;241m-\u001b[39m\u001b[38;5;241m-\u001b[39mversion\n",
      "\u001b[1;31mNameError\u001b[0m: name 'git' is not defined"
     ]
    }
   ],
   "source": [
    "\n",
    "\n",
    "\n"
   ]
  },
  {
   "cell_type": "code",
   "execution_count": null,
   "id": "9205a368-5b17-4a15-816e-51ce2ff871ec",
   "metadata": {},
   "outputs": [],
   "source": []
  }
 ],
 "metadata": {
  "kernelspec": {
   "display_name": "Python 3.10 (tfenv)",
   "language": "python",
   "name": "tfenv"
  },
  "language_info": {
   "codemirror_mode": {
    "name": "ipython",
    "version": 3
   },
   "file_extension": ".py",
   "mimetype": "text/x-python",
   "name": "python",
   "nbconvert_exporter": "python",
   "pygments_lexer": "ipython3",
   "version": "3.10.0"
  }
 },
 "nbformat": 4,
 "nbformat_minor": 5
}
